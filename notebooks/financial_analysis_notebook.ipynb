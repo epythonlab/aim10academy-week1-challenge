{
 "cells": [
  {
   "cell_type": "markdown",
   "metadata": {},
   "source": [
    "## Quantitative analysis using pynance and TaLib"
   ]
  },
  {
   "cell_type": "markdown",
   "metadata": {},
   "source": [
    "#### Load yfinance dataset"
   ]
  },
  {
   "cell_type": "markdown",
   "metadata": {},
   "source": [
    "Fetch Financial Data\n",
    "\n",
    "We can use `PyNance` to fetch historical stock data. \n"
   ]
  },
  {
   "cell_type": "code",
   "execution_count": 52,
   "metadata": {},
   "outputs": [
    {
     "data": {
      "text/html": [
       "<div>\n",
       "<style scoped>\n",
       "    .dataframe tbody tr th:only-of-type {\n",
       "        vertical-align: middle;\n",
       "    }\n",
       "\n",
       "    .dataframe tbody tr th {\n",
       "        vertical-align: top;\n",
       "    }\n",
       "\n",
       "    .dataframe thead th {\n",
       "        text-align: right;\n",
       "    }\n",
       "</style>\n",
       "<table border=\"1\" class=\"dataframe\">\n",
       "  <thead>\n",
       "    <tr style=\"text-align: right;\">\n",
       "      <th></th>\n",
       "      <th>Open</th>\n",
       "      <th>High</th>\n",
       "      <th>Low</th>\n",
       "      <th>Close</th>\n",
       "      <th>Volume</th>\n",
       "      <th>stock</th>\n",
       "    </tr>\n",
       "    <tr>\n",
       "      <th>Date</th>\n",
       "      <th></th>\n",
       "      <th></th>\n",
       "      <th></th>\n",
       "      <th></th>\n",
       "      <th></th>\n",
       "      <th></th>\n",
       "    </tr>\n",
       "  </thead>\n",
       "  <tbody>\n",
       "    <tr>\n",
       "      <th>2022-12-30</th>\n",
       "      <td>128.41</td>\n",
       "      <td>129.9500</td>\n",
       "      <td>127.43</td>\n",
       "      <td>129.93</td>\n",
       "      <td>77034209.0</td>\n",
       "      <td>AAPL</td>\n",
       "    </tr>\n",
       "    <tr>\n",
       "      <th>2022-12-29</th>\n",
       "      <td>127.99</td>\n",
       "      <td>130.4814</td>\n",
       "      <td>127.73</td>\n",
       "      <td>129.61</td>\n",
       "      <td>75703710.0</td>\n",
       "      <td>AAPL</td>\n",
       "    </tr>\n",
       "    <tr>\n",
       "      <th>2022-12-28</th>\n",
       "      <td>129.67</td>\n",
       "      <td>131.0275</td>\n",
       "      <td>125.87</td>\n",
       "      <td>126.04</td>\n",
       "      <td>85438391.0</td>\n",
       "      <td>AAPL</td>\n",
       "    </tr>\n",
       "    <tr>\n",
       "      <th>2022-12-27</th>\n",
       "      <td>131.38</td>\n",
       "      <td>131.4100</td>\n",
       "      <td>128.72</td>\n",
       "      <td>130.03</td>\n",
       "      <td>69007830.0</td>\n",
       "      <td>AAPL</td>\n",
       "    </tr>\n",
       "    <tr>\n",
       "      <th>2022-12-23</th>\n",
       "      <td>130.92</td>\n",
       "      <td>132.4150</td>\n",
       "      <td>129.64</td>\n",
       "      <td>131.86</td>\n",
       "      <td>63814893.0</td>\n",
       "      <td>AAPL</td>\n",
       "    </tr>\n",
       "  </tbody>\n",
       "</table>\n",
       "</div>"
      ],
      "text/plain": [
       "              Open      High     Low   Close      Volume stock\n",
       "Date                                                          \n",
       "2022-12-30  128.41  129.9500  127.43  129.93  77034209.0  AAPL\n",
       "2022-12-29  127.99  130.4814  127.73  129.61  75703710.0  AAPL\n",
       "2022-12-28  129.67  131.0275  125.87  126.04  85438391.0  AAPL\n",
       "2022-12-27  131.38  131.4100  128.72  130.03  69007830.0  AAPL\n",
       "2022-12-23  130.92  132.4150  129.64  131.86  63814893.0  AAPL"
      ]
     },
     "execution_count": 52,
     "metadata": {},
     "output_type": "execute_result"
    }
   ],
   "source": [
    "import sys, os\n",
    "import pandas as pd\n",
    "# Add the 'scripts' directory to the Python path\n",
    "sys.path.append(os.path.abspath(os.path.join('..', 'scripts')))\n",
    "\n",
    "from fetch_stock_data import fetch_historical_data\n",
    "\n",
    "# extract multiple datasets  and concatenate in one dataset for analysis\n",
    "# List of stocks\n",
    "stocks = ['AAPL','AMZN','GOOG','META', 'MSFT', 'NVDA','TSLA']\n",
    "# Fetch historical data for list of stocks\n",
    "\n",
    " # Fetch data for AAPL, GOOGL, and MSFT, etc\n",
    "df = fetch_historical_data(stocks, start_date='2010-01-01', end_date='2023-01-01')\n",
    "    \n",
    "# Explore the results\n",
    "df.head()"
   ]
  },
  {
   "cell_type": "code",
   "execution_count": 53,
   "metadata": {},
   "outputs": [
    {
     "data": {
      "text/plain": [
       "(21119, 6)"
      ]
     },
     "execution_count": 53,
     "metadata": {},
     "output_type": "execute_result"
    }
   ],
   "source": [
    "# check the size of the dataset\n",
    "df.shape"
   ]
  },
  {
   "cell_type": "code",
   "execution_count": 54,
   "metadata": {},
   "outputs": [
    {
     "data": {
      "text/plain": [
       "Open      0\n",
       "High      0\n",
       "Low       0\n",
       "Close     0\n",
       "Volume    0\n",
       "stock     0\n",
       "dtype: int64"
      ]
     },
     "execution_count": 54,
     "metadata": {},
     "output_type": "execute_result"
    }
   ],
   "source": [
    "# check missing values\n",
    "df.isnull().sum()"
   ]
  },
  {
   "cell_type": "code",
   "execution_count": 55,
   "metadata": {},
   "outputs": [
    {
     "data": {
      "text/plain": [
       "Open      float64\n",
       "High      float64\n",
       "Low       float64\n",
       "Close     float64\n",
       "Volume    float64\n",
       "stock      object\n",
       "dtype: object"
      ]
     },
     "execution_count": 55,
     "metadata": {},
     "output_type": "execute_result"
    }
   ],
   "source": [
    "# check the data types\n",
    "df.dtypes"
   ]
  },
  {
   "cell_type": "code",
   "execution_count": 56,
   "metadata": {},
   "outputs": [
    {
     "data": {
      "text/plain": [
       "0"
      ]
     },
     "execution_count": 56,
     "metadata": {},
     "output_type": "execute_result"
    }
   ],
   "source": [
    "# check duplicates\n",
    "\n",
    "df.duplicated().sum()"
   ]
  },
  {
   "cell_type": "markdown",
   "metadata": {},
   "source": [
    "## Apply Analysis Indicators with TA-Lib\n",
    "Here we can use `TA-Lib` to calculate various technical indicators such as moving averages, RSI (Relative Strength Index), and MACD (Moving Average Convergence Divergence)\n"
   ]
  },
  {
   "cell_type": "code",
   "execution_count": 57,
   "metadata": {},
   "outputs": [],
   "source": [
    "# Import ta-lib library\n",
    "import talib\n"
   ]
  },
  {
   "cell_type": "markdown",
   "metadata": {},
   "source": [
    "Applying Technical Indicators"
   ]
  },
  {
   "cell_type": "code",
   "execution_count": 58,
   "metadata": {},
   "outputs": [],
   "source": [
    "\n",
    "# Moving Averages\n",
    "df['SMA_20'] = talib.SMA(df['Close'], timeperiod=20)\n",
    "df['EMA_20'] = talib.EMA(df['Close'], timeperiod=20)"
   ]
  },
  {
   "cell_type": "code",
   "execution_count": 59,
   "metadata": {},
   "outputs": [],
   "source": [
    "# Relative Strength Index (RSI)\n",
    "df['RSI_14'] = talib.RSI(df['Close'], timeperiod=14)"
   ]
  },
  {
   "cell_type": "code",
   "execution_count": 60,
   "metadata": {},
   "outputs": [],
   "source": [
    "# Moving Average Convergence Divergence (MACD)\n",
    "df['MACD'], df['MACD_Signal'], df['MACD_Hist'] = talib.MACD(df['Close'], \n",
    "                                                            fastperiod=12, \n",
    "                                                            slowperiod=26, \n",
    "                                                            signalperiod=9)"
   ]
  },
  {
   "cell_type": "code",
   "execution_count": 61,
   "metadata": {},
   "outputs": [
    {
     "data": {
      "text/plain": [
       "Open            0\n",
       "High            0\n",
       "Low             0\n",
       "Close           0\n",
       "Volume          0\n",
       "stock           0\n",
       "SMA_20         19\n",
       "EMA_20         19\n",
       "RSI_14         14\n",
       "MACD           33\n",
       "MACD_Signal    33\n",
       "MACD_Hist      33\n",
       "dtype: int64"
      ]
     },
     "execution_count": 61,
     "metadata": {},
     "output_type": "execute_result"
    }
   ],
   "source": [
    "df.isnull().sum()"
   ]
  },
  {
   "cell_type": "markdown",
   "metadata": {},
   "source": [
    "Seeing `NaN` values in the first few rows of the indicators is expected due to the look-back period required for calculation. We can choose to drop those rows, fill them, or handle them according to our analysis needs."
   ]
  },
  {
   "cell_type": "markdown",
   "metadata": {},
   "source": [
    "Daily Returns"
   ]
  },
  {
   "cell_type": "code",
   "execution_count": 62,
   "metadata": {},
   "outputs": [
    {
     "name": "stdout",
     "output_type": "stream",
     "text": [
      "             Close  Daily_Return\n",
      "Date                            \n",
      "2022-12-30  129.93           NaN\n",
      "2022-12-29  129.61     -0.002463\n",
      "2022-12-28  126.04     -0.027544\n",
      "2022-12-27  130.03      0.031657\n",
      "2022-12-23  131.86      0.014074\n",
      "2022-12-22  132.23      0.002806\n",
      "2022-12-21  135.45      0.024352\n",
      "2022-12-20  132.30     -0.023256\n",
      "2022-12-19  132.37      0.000529\n",
      "2022-12-16  134.51      0.016167\n",
      "2022-12-15  136.50      0.014794\n",
      "2022-12-14  143.21      0.049158\n",
      "2022-12-13  145.47      0.015781\n",
      "2022-12-12  144.49     -0.006737\n",
      "2022-12-09  142.16     -0.016126\n",
      "2022-12-08  142.65      0.003447\n",
      "2022-12-07  140.94     -0.011987\n",
      "2022-12-06  142.91      0.013978\n",
      "2022-12-05  146.63      0.026030\n",
      "2022-12-02  147.81      0.008047\n",
      "2022-12-01  148.31      0.003383\n",
      "2022-11-30  148.03     -0.001888\n",
      "2022-11-29  141.17     -0.046342\n",
      "2022-11-28  144.22      0.021605\n",
      "2022-11-25  148.11      0.026973\n",
      "2022-11-23  151.07      0.019985\n",
      "2022-11-22  150.18     -0.005891\n",
      "2022-11-21  148.01     -0.014449\n",
      "2022-11-18  151.29      0.022161\n",
      "2022-11-17  150.72     -0.003768\n"
     ]
    }
   ],
   "source": [
    "# Calculate daily returns\n",
    "df['Daily_Return'] = df['Close'].pct_change()\n",
    "\n",
    "print(df[['Close', 'Daily_Return']].head(30))\n"
   ]
  },
  {
   "cell_type": "markdown",
   "metadata": {},
   "source": [
    "Cumulative Returns"
   ]
  },
  {
   "cell_type": "code",
   "execution_count": 63,
   "metadata": {},
   "outputs": [
    {
     "name": "stdout",
     "output_type": "stream",
     "text": [
      "             Close  Cumulative_Return\n",
      "Date                                 \n",
      "2022-12-30  129.93                NaN\n",
      "2022-12-29  129.61           0.997537\n",
      "2022-12-28  126.04           0.970061\n",
      "2022-12-27  130.03           1.000770\n",
      "2022-12-23  131.86           1.014854\n",
      "2022-12-22  132.23           1.017702\n",
      "2022-12-21  135.45           1.042484\n",
      "2022-12-20  132.30           1.018241\n",
      "2022-12-19  132.37           1.018779\n",
      "2022-12-16  134.51           1.035250\n",
      "2022-12-15  136.50           1.050566\n",
      "2022-12-14  143.21           1.102209\n",
      "2022-12-13  145.47           1.119603\n",
      "2022-12-12  144.49           1.112060\n",
      "2022-12-09  142.16           1.094128\n",
      "2022-12-08  142.65           1.097899\n",
      "2022-12-07  140.94           1.084738\n",
      "2022-12-06  142.91           1.099900\n",
      "2022-12-05  146.63           1.128531\n",
      "2022-12-02  147.81           1.137613\n",
      "2022-12-01  148.31           1.141461\n",
      "2022-11-30  148.03           1.139306\n",
      "2022-11-29  141.17           1.086508\n",
      "2022-11-28  144.22           1.109982\n",
      "2022-11-25  148.11           1.139921\n",
      "2022-11-23  151.07           1.162703\n",
      "2022-11-22  150.18           1.155853\n",
      "2022-11-21  148.01           1.139152\n",
      "2022-11-18  151.29           1.164396\n",
      "2022-11-17  150.72           1.160009\n"
     ]
    }
   ],
   "source": [
    "# Calculate cumulative returns\n",
    "df['Cumulative_Return'] = (1 + df['Daily_Return']).cumprod()\n",
    "\n",
    "print(df[['Close', 'Cumulative_Return']].head(30))\n"
   ]
  },
  {
   "cell_type": "code",
   "execution_count": null,
   "metadata": {},
   "outputs": [],
   "source": []
  }
 ],
 "metadata": {
  "kernelspec": {
   "display_name": ".venv",
   "language": "python",
   "name": "python3"
  },
  "language_info": {
   "codemirror_mode": {
    "name": "ipython",
    "version": 3
   },
   "file_extension": ".py",
   "mimetype": "text/x-python",
   "name": "python",
   "nbconvert_exporter": "python",
   "pygments_lexer": "ipython3",
   "version": "3.11.6"
  }
 },
 "nbformat": 4,
 "nbformat_minor": 2
}
